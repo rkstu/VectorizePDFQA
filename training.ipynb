{
 "cells": [
  {
   "cell_type": "code",
   "execution_count": 1,
   "metadata": {},
   "outputs": [
    {
     "name": "stderr",
     "output_type": "stream",
     "text": [
      "d:\\dev\\projects\\Personalized-Search-Engine-Interface-and-Chatbot\\venv\\lib\\site-packages\\pinecone\\index.py:4: TqdmWarning: IProgress not found. Please update jupyter and ipywidgets. See https://ipywidgets.readthedocs.io/en/stable/user_install.html\n",
      "  from tqdm.autonotebook import tqdm\n"
     ]
    }
   ],
   "source": [
    "# Import Libraries\n",
    "import openai\n",
    "import langchain\n",
    "import pinecone\n",
    "from langchain.document_loaders import PyPDFDirectoryLoader\n",
    "from langchain.text_splitter import RecursiveCharacterTextSplitter\n",
    "from langchain.embeddings.openai import OpenAIEmbeddings\n",
    "from langchain.vectorstores import Pinecone\n",
    "from langchain.llms import OpenAI"
   ]
  },
  {
   "cell_type": "code",
   "execution_count": 2,
   "metadata": {},
   "outputs": [
    {
     "data": {
      "text/plain": [
       "True"
      ]
     },
     "execution_count": 2,
     "metadata": {},
     "output_type": "execute_result"
    }
   ],
   "source": [
    "from dotenv import load_dotenv\n",
    "load_dotenv()"
   ]
  },
  {
   "cell_type": "code",
   "execution_count": 3,
   "metadata": {},
   "outputs": [],
   "source": [
    "import os"
   ]
  },
  {
   "cell_type": "code",
   "execution_count": 4,
   "metadata": {},
   "outputs": [],
   "source": [
    "## Let's read the document\n",
    "def read_doc(directory):\n",
    "  file_loader = PyPDFDirectoryLoader(directory)\n",
    "  documents = file_loader.load()\n",
    "  return documents"
   ]
  },
  {
   "cell_type": "code",
   "execution_count": 5,
   "metadata": {},
   "outputs": [
    {
     "data": {
      "text/plain": [
       "177"
      ]
     },
     "execution_count": 5,
     "metadata": {},
     "output_type": "execute_result"
    }
   ],
   "source": [
    "doc = read_doc(\"documents/\")\n",
    "len(doc)"
   ]
  },
  {
   "cell_type": "code",
   "execution_count": 6,
   "metadata": {},
   "outputs": [],
   "source": [
    "## Divide the docs into chuncks \n",
    "\n",
    "def chunk_data(docs, chunk_size=800, chunk_overlap=50):\n",
    "  text_splitter = RecursiveCharacterTextSplitter(chunk_size=chunk_size, chunk_overlap=chunk_overlap)\n",
    "  doc = text_splitter.split_documents(docs)\n",
    "  return docs"
   ]
  },
  {
   "cell_type": "code",
   "execution_count": 7,
   "metadata": {},
   "outputs": [
    {
     "data": {
      "text/plain": [
       "177"
      ]
     },
     "execution_count": 7,
     "metadata": {},
     "output_type": "execute_result"
    }
   ],
   "source": [
    "documents = chunk_data(docs=doc)\n",
    "len(documents)"
   ]
  },
  {
   "cell_type": "markdown",
   "metadata": {},
   "source": [
    "## Embidding Technique of OPENAI"
   ]
  },
  {
   "cell_type": "code",
   "execution_count": null,
   "metadata": {},
   "outputs": [],
   "source": [
    "embeddings=OpenAIEmbeddings(api_key=os.environ['OPENAI_API_KEY'])\n",
    "embeddings"
   ]
  },
  {
   "cell_type": "code",
   "execution_count": 10,
   "metadata": {},
   "outputs": [
    {
     "data": {
      "text/plain": [
       "1536"
      ]
     },
     "execution_count": 10,
     "metadata": {},
     "output_type": "execute_result"
    }
   ],
   "source": [
    "vectors = embeddings.embed_query(\"How are you ?\")\n",
    "len(vectors)"
   ]
  },
  {
   "cell_type": "code",
   "execution_count": 11,
   "metadata": {},
   "outputs": [],
   "source": [
    "## Vector search DB in  Pinecone\n",
    "pinecone.init(\n",
    "  api_key=os.environ['PINECONE_API_KEY'],\n",
    "  environment=os.environ['PINECONE_ENVIRONMENT']\n",
    ")\n",
    "index_name=os.environ['PINECONE_INDEX_NAME']"
   ]
  },
  {
   "cell_type": "code",
   "execution_count": 12,
   "metadata": {},
   "outputs": [
    {
     "data": {
      "text/plain": [
       "<langchain_community.vectorstores.pinecone.Pinecone at 0x241171466b0>"
      ]
     },
     "execution_count": 12,
     "metadata": {},
     "output_type": "execute_result"
    }
   ],
   "source": [
    "index = Pinecone.from_documents(doc, embeddings, index_name=index_name)\n",
    "index"
   ]
  },
  {
   "cell_type": "code",
   "execution_count": 13,
   "metadata": {},
   "outputs": [],
   "source": [
    "## Cosine Similarity Retreive Results from vectorDB\n",
    "def retrieve_query(query, index, k=2):\n",
    "  matching_results=index.similarity_search(query, k=k)\n",
    "  return matching_results"
   ]
  },
  {
   "cell_type": "code",
   "execution_count": 14,
   "metadata": {},
   "outputs": [],
   "source": [
    "from langchain.chains.question_answering import load_qa_chain\n",
    "from langchain import OpenAI"
   ]
  },
  {
   "cell_type": "code",
   "execution_count": 15,
   "metadata": {},
   "outputs": [],
   "source": [
    "llm = OpenAI(model_name=\"davinci-002\", temperature=0.9)\n",
    "chain = load_qa_chain(llm, chain_type=\"stuff\")"
   ]
  },
  {
   "cell_type": "code",
   "execution_count": 16,
   "metadata": {},
   "outputs": [],
   "source": [
    "## Search answers from VectorDB\n",
    "def retrieve_answer(query, chain, index):\n",
    "  doc_search = retrieve_query(query=query, index=index)\n",
    "  print(doc_search)\n",
    "  response=chain.run(input_documents=doc_search, question=query)\n",
    "  return response"
   ]
  },
  {
   "cell_type": "code",
   "execution_count": 17,
   "metadata": {},
   "outputs": [
    {
     "name": "stdout",
     "output_type": "stream",
     "text": [
      "[Document(page_content='118  Linear regression is one of the easiest and most popular Machine Learning algorithms. It is a statistical method \\nthat is used for predictive analysis. Linear regression makes predictions for continuous/real or numeric \\nvariables such as  sales, salary, age, product price,  etc. \\nLinear regression algorithm shows a linear relationship between a dependent (y) and one or more \\nindependent (y) variables, hence called as linear regression. Since linear regression shows the linear \\nrelationship, which means it finds how the value of the dependent variable is changing according to the value \\nof the indepe ndent variable.  \\nThe linear regression model provides a sloped straight line representing the relationship between the \\nvariables. Consider the below image:  \\n \\n \\n \\ny= a 0+a1x+ ε \\nHere,  \\nY= Dependent Variable (Target Variable)  \\nX= Independent Variable (predictor Var iable)  \\na0= intercept of the line (Gives an additional degree of freedom)  \\na1 = Linear regression coefficient (scale factor to each input value).  \\nε = random error  \\nThe values for x and y variables are training datasets for Linear Regression model representati on. \\n', metadata={'page': 120.0, 'source': 'documents\\\\AI & ML DIGITAL NOTES.pdf'}), Document(page_content='118  Linear regression is one of the easiest and most popular Machine Learning algorithms. It is a statistical method \\nthat is used for predictive analysis. Linear regression makes predictions for continuous/real or numeric \\nvariables such as  sales, salary, age, product price,  etc. \\nLinear regression algorithm shows a linear relationship between a dependent (y) and one or more \\nindependent (y) variables, hence called as linear regression. Since linear regression shows the linear \\nrelationship, which means it finds how the value of the dependent variable is changing according to the value \\nof the indepe ndent variable.  \\nThe linear regression model provides a sloped straight line representing the relationship between the \\nvariables. Consider the below image:  \\n \\n \\n \\ny= a 0+a1x+ ε \\nHere,  \\nY= Dependent Variable (Target Variable)  \\nX= Independent Variable (predictor Var iable)  \\na0= intercept of the line (Gives an additional degree of freedom)  \\na1 = Linear regression coefficient (scale factor to each input value).  \\nε = random error  \\nThe values for x and y variables are training datasets for Linear Regression model representati on. \\n', metadata={'page': 120.0, 'source': 'documents\\\\AI & ML DIGITAL NOTES.pdf'})]\n",
      " It's an early name of perceptron, which is a neural network.\n",
      "\n",
      "\n",
      "118  Linear regression is one of the easiest and most popular Machine Learning algorithms. \n",
      "It is a statistical method that is used for predictive analysis. \n",
      "Linear regression makes predictions for continuous/real or numeric \n",
      "\n",
      "variables such as sales, salary, age, product price, etc. \n",
      "Linear regression algorithm shows a linear relationship between a dependent (y) and one or more \n",
      "independent (y) variables, hence called as linear regression. Since linear regression shows the linear \n",
      "relationship, which means it finds how the value of the dependent variable is changing according to the value \n",
      "of the indepe ndent variable.  \n",
      "\n",
      "The linear regression model provides a sloped straight line representing the relationship between the \n",
      "\n",
      "variables. Consider the below image:  \n",
      " \n",
      " \n",
      " \n",
      "y= a 0+a1x+ ε \n",
      "Here,  \n",
      "Y= Dependent Variable (Target Variable)  \n",
      "X= Independent Variable (predictor Var iable)  \n",
      "a0= intercept of the line (Gives an additional degree of freedom)  \n",
      "a1 = Linear regression coefficient (scale factor to each input value).  \n",
      "ε = random error  \n",
      "The values for x and y variables are training datasets for Linear Regression model representati on. \n",
      "\n",
      "\n"
     ]
    }
   ],
   "source": [
    "# out_query = \"How much the agriculture target will be increased by how many crores\"\n",
    "out_query = \"what is preceptron in terms of statistics?\"\n",
    "answer = retrieve_answer(query=out_query, chain=chain, index=index)\n",
    "print(answer)"
   ]
  },
  {
   "cell_type": "code",
   "execution_count": 18,
   "metadata": {},
   "outputs": [
    {
     "name": "stdout",
     "output_type": "stream",
     "text": [
      " deep learning is a subfield of machine learning based on a set of algorithms that attempt to model high level abstractions in data. These models explore data by using structured levels of abstraction that extract higher level features from lower level features. Deep learning proposes that this process can be repeated several times to introduce increasingly higher level abstractions. Typical deep learning models are non-linear and composed of multiple processing layers. The learning process for this kind of model is similar to the way people learn: by continually reducing errors made in previous stages, and moving the model closer to an accurate representation of the data.\n",
      "The term deep learning refers to the length of such a computational model, which reproduces the brain's behavior, with the number of layers of non-linear transformation being the main physical feature of it. In practice, the feature extraction aspect of such models is generally not discussed or reviewed. Deep learning models are constructed in a layered structure, which is inspired by the neurons in the brain. Deep learning models are based on a hierarchical structure, where deeper layers learn more abstract features, such as shapes and edges, than the ones present in the lower level. There are models that can learn at the higher level and models that have been trained to learn at the lower level.\n",
      "\n",
      "Deep learning methods can be used to\n"
     ]
    }
   ],
   "source": [
    "query = \"what is deep learning?\"\n",
    "index = Pinecone.from_documents(\"\", embeddings, index_name=index_name)\n",
    "doc_search = index.similarity_search(query, k=2)\n",
    "response=chain.run(input_documents=doc_search, question=query)\n",
    "print(str(response))"
   ]
  },
  {
   "cell_type": "code",
   "execution_count": null,
   "metadata": {},
   "outputs": [],
   "source": []
  }
 ],
 "metadata": {
  "kernelspec": {
   "display_name": "Python 3",
   "language": "python",
   "name": "python3"
  },
  "language_info": {
   "codemirror_mode": {
    "name": "ipython",
    "version": 3
   },
   "file_extension": ".py",
   "mimetype": "text/x-python",
   "name": "python",
   "nbconvert_exporter": "python",
   "pygments_lexer": "ipython3",
   "version": "3.10.0"
  }
 },
 "nbformat": 4,
 "nbformat_minor": 2
}
